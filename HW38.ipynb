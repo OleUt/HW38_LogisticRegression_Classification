{
 "cells": [
  {
   "cell_type": "code",
   "execution_count": 1,
   "id": "8b31ca73",
   "metadata": {},
   "outputs": [],
   "source": [
    "import pandas as pd\n",
    "import numpy as np\n",
    "import matplotlib.pyplot as plt\n",
    "import seaborn as sns\n",
    "from sklearn. model_selection import train_test_split\n",
    "from sklearn. linear_model import LogisticRegression\n",
    "from sklearn import metrics"
   ]
  },
  {
   "cell_type": "code",
   "execution_count": 2,
   "id": "9c059eb6",
   "metadata": {},
   "outputs": [
    {
     "data": {
      "text/plain": [
       "(41188, 21)"
      ]
     },
     "execution_count": 2,
     "metadata": {},
     "output_type": "execute_result"
    }
   ],
   "source": [
    "data = pd.read_csv('banking.csv')\n",
    "data.drop_duplicates()\n",
    "data.shape"
   ]
  },
  {
   "cell_type": "code",
   "execution_count": 3,
   "id": "2060729d",
   "metadata": {},
   "outputs": [
    {
     "data": {
      "text/html": [
       "<div>\n",
       "<style scoped>\n",
       "    .dataframe tbody tr th:only-of-type {\n",
       "        vertical-align: middle;\n",
       "    }\n",
       "\n",
       "    .dataframe tbody tr th {\n",
       "        vertical-align: top;\n",
       "    }\n",
       "\n",
       "    .dataframe thead th {\n",
       "        text-align: right;\n",
       "    }\n",
       "</style>\n",
       "<table border=\"1\" class=\"dataframe\">\n",
       "  <thead>\n",
       "    <tr style=\"text-align: right;\">\n",
       "      <th></th>\n",
       "      <th>age</th>\n",
       "      <th>job</th>\n",
       "      <th>marital</th>\n",
       "      <th>education</th>\n",
       "      <th>default</th>\n",
       "      <th>housing</th>\n",
       "      <th>loan</th>\n",
       "      <th>contact</th>\n",
       "      <th>month</th>\n",
       "      <th>day_of_week</th>\n",
       "      <th>...</th>\n",
       "      <th>campaign</th>\n",
       "      <th>pdays</th>\n",
       "      <th>previous</th>\n",
       "      <th>poutcome</th>\n",
       "      <th>emp_var_rate</th>\n",
       "      <th>cons_price_idx</th>\n",
       "      <th>cons_conf_idx</th>\n",
       "      <th>euribor3m</th>\n",
       "      <th>nr_employed</th>\n",
       "      <th>y</th>\n",
       "    </tr>\n",
       "  </thead>\n",
       "  <tbody>\n",
       "    <tr>\n",
       "      <th>0</th>\n",
       "      <td>44</td>\n",
       "      <td>blue-collar</td>\n",
       "      <td>married</td>\n",
       "      <td>basic.4y</td>\n",
       "      <td>unknown</td>\n",
       "      <td>yes</td>\n",
       "      <td>no</td>\n",
       "      <td>cellular</td>\n",
       "      <td>aug</td>\n",
       "      <td>thu</td>\n",
       "      <td>...</td>\n",
       "      <td>1</td>\n",
       "      <td>999</td>\n",
       "      <td>0</td>\n",
       "      <td>nonexistent</td>\n",
       "      <td>1.4</td>\n",
       "      <td>93.444</td>\n",
       "      <td>-36.1</td>\n",
       "      <td>4.963</td>\n",
       "      <td>5228.1</td>\n",
       "      <td>0</td>\n",
       "    </tr>\n",
       "    <tr>\n",
       "      <th>1</th>\n",
       "      <td>53</td>\n",
       "      <td>technician</td>\n",
       "      <td>married</td>\n",
       "      <td>unknown</td>\n",
       "      <td>no</td>\n",
       "      <td>no</td>\n",
       "      <td>no</td>\n",
       "      <td>cellular</td>\n",
       "      <td>nov</td>\n",
       "      <td>fri</td>\n",
       "      <td>...</td>\n",
       "      <td>1</td>\n",
       "      <td>999</td>\n",
       "      <td>0</td>\n",
       "      <td>nonexistent</td>\n",
       "      <td>-0.1</td>\n",
       "      <td>93.200</td>\n",
       "      <td>-42.0</td>\n",
       "      <td>4.021</td>\n",
       "      <td>5195.8</td>\n",
       "      <td>0</td>\n",
       "    </tr>\n",
       "    <tr>\n",
       "      <th>2</th>\n",
       "      <td>28</td>\n",
       "      <td>management</td>\n",
       "      <td>single</td>\n",
       "      <td>university.degree</td>\n",
       "      <td>no</td>\n",
       "      <td>yes</td>\n",
       "      <td>no</td>\n",
       "      <td>cellular</td>\n",
       "      <td>jun</td>\n",
       "      <td>thu</td>\n",
       "      <td>...</td>\n",
       "      <td>3</td>\n",
       "      <td>6</td>\n",
       "      <td>2</td>\n",
       "      <td>success</td>\n",
       "      <td>-1.7</td>\n",
       "      <td>94.055</td>\n",
       "      <td>-39.8</td>\n",
       "      <td>0.729</td>\n",
       "      <td>4991.6</td>\n",
       "      <td>1</td>\n",
       "    </tr>\n",
       "    <tr>\n",
       "      <th>3</th>\n",
       "      <td>39</td>\n",
       "      <td>services</td>\n",
       "      <td>married</td>\n",
       "      <td>high.school</td>\n",
       "      <td>no</td>\n",
       "      <td>no</td>\n",
       "      <td>no</td>\n",
       "      <td>cellular</td>\n",
       "      <td>apr</td>\n",
       "      <td>fri</td>\n",
       "      <td>...</td>\n",
       "      <td>2</td>\n",
       "      <td>999</td>\n",
       "      <td>0</td>\n",
       "      <td>nonexistent</td>\n",
       "      <td>-1.8</td>\n",
       "      <td>93.075</td>\n",
       "      <td>-47.1</td>\n",
       "      <td>1.405</td>\n",
       "      <td>5099.1</td>\n",
       "      <td>0</td>\n",
       "    </tr>\n",
       "    <tr>\n",
       "      <th>4</th>\n",
       "      <td>55</td>\n",
       "      <td>retired</td>\n",
       "      <td>married</td>\n",
       "      <td>basic.4y</td>\n",
       "      <td>no</td>\n",
       "      <td>yes</td>\n",
       "      <td>no</td>\n",
       "      <td>cellular</td>\n",
       "      <td>aug</td>\n",
       "      <td>fri</td>\n",
       "      <td>...</td>\n",
       "      <td>1</td>\n",
       "      <td>3</td>\n",
       "      <td>1</td>\n",
       "      <td>success</td>\n",
       "      <td>-2.9</td>\n",
       "      <td>92.201</td>\n",
       "      <td>-31.4</td>\n",
       "      <td>0.869</td>\n",
       "      <td>5076.2</td>\n",
       "      <td>1</td>\n",
       "    </tr>\n",
       "  </tbody>\n",
       "</table>\n",
       "<p>5 rows × 21 columns</p>\n",
       "</div>"
      ],
      "text/plain": [
       "   age          job  marital          education  default housing loan  \\\n",
       "0   44  blue-collar  married           basic.4y  unknown     yes   no   \n",
       "1   53   technician  married            unknown       no      no   no   \n",
       "2   28   management   single  university.degree       no     yes   no   \n",
       "3   39     services  married        high.school       no      no   no   \n",
       "4   55      retired  married           basic.4y       no     yes   no   \n",
       "\n",
       "    contact month day_of_week  ...  campaign  pdays  previous     poutcome  \\\n",
       "0  cellular   aug         thu  ...         1    999         0  nonexistent   \n",
       "1  cellular   nov         fri  ...         1    999         0  nonexistent   \n",
       "2  cellular   jun         thu  ...         3      6         2      success   \n",
       "3  cellular   apr         fri  ...         2    999         0  nonexistent   \n",
       "4  cellular   aug         fri  ...         1      3         1      success   \n",
       "\n",
       "  emp_var_rate  cons_price_idx  cons_conf_idx  euribor3m  nr_employed  y  \n",
       "0          1.4          93.444          -36.1      4.963       5228.1  0  \n",
       "1         -0.1          93.200          -42.0      4.021       5195.8  0  \n",
       "2         -1.7          94.055          -39.8      0.729       4991.6  1  \n",
       "3         -1.8          93.075          -47.1      1.405       5099.1  0  \n",
       "4         -2.9          92.201          -31.4      0.869       5076.2  1  \n",
       "\n",
       "[5 rows x 21 columns]"
      ]
     },
     "execution_count": 3,
     "metadata": {},
     "output_type": "execute_result"
    }
   ],
   "source": [
    "data.head()"
   ]
  },
  {
   "cell_type": "code",
   "execution_count": 4,
   "id": "ed313431",
   "metadata": {},
   "outputs": [
    {
     "data": {
      "text/html": [
       "<div>\n",
       "<style scoped>\n",
       "    .dataframe tbody tr th:only-of-type {\n",
       "        vertical-align: middle;\n",
       "    }\n",
       "\n",
       "    .dataframe tbody tr th {\n",
       "        vertical-align: top;\n",
       "    }\n",
       "\n",
       "    .dataframe thead th {\n",
       "        text-align: right;\n",
       "    }\n",
       "</style>\n",
       "<table border=\"1\" class=\"dataframe\">\n",
       "  <thead>\n",
       "    <tr style=\"text-align: right;\">\n",
       "      <th></th>\n",
       "      <th>0</th>\n",
       "    </tr>\n",
       "  </thead>\n",
       "  <tbody>\n",
       "    <tr>\n",
       "      <th>age</th>\n",
       "      <td>[44, 53, 28, 39, 55, 30, 37, 36, 27, 34, 41, 3...</td>\n",
       "    </tr>\n",
       "    <tr>\n",
       "      <th>job</th>\n",
       "      <td>[blue-collar, technician, management, services...</td>\n",
       "    </tr>\n",
       "    <tr>\n",
       "      <th>marital</th>\n",
       "      <td>[married, single, divorced, unknown]</td>\n",
       "    </tr>\n",
       "    <tr>\n",
       "      <th>education</th>\n",
       "      <td>[basic.4y, unknown, university.degree, high.sc...</td>\n",
       "    </tr>\n",
       "    <tr>\n",
       "      <th>default</th>\n",
       "      <td>[unknown, no, yes]</td>\n",
       "    </tr>\n",
       "    <tr>\n",
       "      <th>housing</th>\n",
       "      <td>[yes, no, unknown]</td>\n",
       "    </tr>\n",
       "    <tr>\n",
       "      <th>loan</th>\n",
       "      <td>[no, yes, unknown]</td>\n",
       "    </tr>\n",
       "    <tr>\n",
       "      <th>contact</th>\n",
       "      <td>[cellular, telephone]</td>\n",
       "    </tr>\n",
       "    <tr>\n",
       "      <th>month</th>\n",
       "      <td>[aug, nov, jun, apr, jul, may, oct, mar, sep, ...</td>\n",
       "    </tr>\n",
       "    <tr>\n",
       "      <th>day_of_week</th>\n",
       "      <td>[thu, fri, tue, mon, wed]</td>\n",
       "    </tr>\n",
       "    <tr>\n",
       "      <th>duration</th>\n",
       "      <td>[210, 138, 339, 185, 137, 68, 204, 191, 174, 6...</td>\n",
       "    </tr>\n",
       "    <tr>\n",
       "      <th>campaign</th>\n",
       "      <td>[1, 3, 2, 8, 5, 4, 25, 11, 12, 18, 6, 17, 7, 2...</td>\n",
       "    </tr>\n",
       "    <tr>\n",
       "      <th>pdays</th>\n",
       "      <td>[999, 6, 3, 2, 4, 16, 0, 5, 11, 14, 13, 9, 15,...</td>\n",
       "    </tr>\n",
       "    <tr>\n",
       "      <th>previous</th>\n",
       "      <td>[0, 2, 1, 3, 4, 5, 7, 6]</td>\n",
       "    </tr>\n",
       "    <tr>\n",
       "      <th>poutcome</th>\n",
       "      <td>[nonexistent, success, failure]</td>\n",
       "    </tr>\n",
       "    <tr>\n",
       "      <th>emp_var_rate</th>\n",
       "      <td>[1.4, -0.1, -1.7, -1.8, -2.9, 1.1, -3.4, -1.1,...</td>\n",
       "    </tr>\n",
       "    <tr>\n",
       "      <th>cons_price_idx</th>\n",
       "      <td>[93.444, 93.2, 94.055, 93.075, 92.201, 93.918,...</td>\n",
       "    </tr>\n",
       "    <tr>\n",
       "      <th>cons_conf_idx</th>\n",
       "      <td>[-36.1, -42.0, -39.8, -47.1, -31.4, -42.7, -46...</td>\n",
       "    </tr>\n",
       "    <tr>\n",
       "      <th>euribor3m</th>\n",
       "      <td>[4.963, 4.021, 0.729, 1.405, 0.869, 4.961, 1.3...</td>\n",
       "    </tr>\n",
       "    <tr>\n",
       "      <th>nr_employed</th>\n",
       "      <td>[5228.1, 5195.8, 4991.6, 5099.1, 5076.2, 5191....</td>\n",
       "    </tr>\n",
       "    <tr>\n",
       "      <th>y</th>\n",
       "      <td>[0, 1]</td>\n",
       "    </tr>\n",
       "  </tbody>\n",
       "</table>\n",
       "</div>"
      ],
      "text/plain": [
       "                                                                0\n",
       "age             [44, 53, 28, 39, 55, 30, 37, 36, 27, 34, 41, 3...\n",
       "job             [blue-collar, technician, management, services...\n",
       "marital                      [married, single, divorced, unknown]\n",
       "education       [basic.4y, unknown, university.degree, high.sc...\n",
       "default                                        [unknown, no, yes]\n",
       "housing                                        [yes, no, unknown]\n",
       "loan                                           [no, yes, unknown]\n",
       "contact                                     [cellular, telephone]\n",
       "month           [aug, nov, jun, apr, jul, may, oct, mar, sep, ...\n",
       "day_of_week                             [thu, fri, tue, mon, wed]\n",
       "duration        [210, 138, 339, 185, 137, 68, 204, 191, 174, 6...\n",
       "campaign        [1, 3, 2, 8, 5, 4, 25, 11, 12, 18, 6, 17, 7, 2...\n",
       "pdays           [999, 6, 3, 2, 4, 16, 0, 5, 11, 14, 13, 9, 15,...\n",
       "previous                                 [0, 2, 1, 3, 4, 5, 7, 6]\n",
       "poutcome                          [nonexistent, success, failure]\n",
       "emp_var_rate    [1.4, -0.1, -1.7, -1.8, -2.9, 1.1, -3.4, -1.1,...\n",
       "cons_price_idx  [93.444, 93.2, 94.055, 93.075, 92.201, 93.918,...\n",
       "cons_conf_idx   [-36.1, -42.0, -39.8, -47.1, -31.4, -42.7, -46...\n",
       "euribor3m       [4.963, 4.021, 0.729, 1.405, 0.869, 4.961, 1.3...\n",
       "nr_employed     [5228.1, 5195.8, 4991.6, 5099.1, 5076.2, 5191....\n",
       "y                                                          [0, 1]"
      ]
     },
     "execution_count": 4,
     "metadata": {},
     "output_type": "execute_result"
    }
   ],
   "source": [
    "pd.DataFrame(data.apply(pd.unique))"
   ]
  },
  {
   "cell_type": "code",
   "execution_count": 5,
   "id": "325fcc53",
   "metadata": {},
   "outputs": [],
   "source": [
    "data.loc[(data.job == 'admin.'), 'job'] = 1\n",
    "data.loc[(data.job == 'blue-collar'), 'job'] = 2\n",
    "data.loc[(data.job == 'entrepreneur'), 'job'] = 3\n",
    "data.loc[(data.job == 'housemaid'), 'job'] = 4\n",
    "data.loc[(data.job == 'management'), 'job'] = 5\n",
    "data.loc[(data.job == 'retired'), 'job'] = 6\n",
    "data.loc[(data.job == 'self-employed'), 'job'] = 7\n",
    "data.loc[(data.job == 'services'), 'job'] = 8\n",
    "data.loc[(data.job == 'student'), 'job'] = 9\n",
    "data.loc[(data.job == 'technician'), 'job'] = 10\n",
    "data.loc[(data.job == 'unemployed'), 'job'] = 11\n",
    "\n",
    "data.loc[(data.marital == 'single'), 'marital'] = 0\n",
    "data.loc[(data.marital == 'married'), 'marital'] = 1\n",
    "data.loc[(data.marital == 'divorced'), 'marital'] = 2\n",
    "\n",
    "data.loc[(data.education == 'illiterate'), 'education'] = 1\n",
    "data.loc[(data.education == 'basic.4y'), 'education'] = 2\n",
    "data.loc[(data.education == 'basic.6y'), 'education'] = 3\n",
    "data.loc[(data.education == 'basic.9y'), 'education'] = 4\n",
    "data.loc[(data.education == 'professional.course'), 'education'] = 5 \n",
    "data.loc[(data.education == 'high.school'), 'education'] = 6\n",
    "data.loc[(data.education == 'university.degree'), 'education'] = 7 \n",
    "\n",
    "data.loc[(data.default == 'yes'), 'default'] = 1\n",
    "data.loc[(data.default == 'no'), 'default'] = 0\n",
    "\n",
    "data.loc[(data.housing == 'yes'), 'housing'] = 1\n",
    "data.loc[(data.housing == 'no'), 'housing'] = 0\n",
    "\n",
    "data.loc[(data.loan == 'yes'), 'loan'] = 1\n",
    "data.loc[(data.loan == 'no'), 'loan'] = 0\n",
    "\n",
    "data.loc[(data.contact == 'cellular'), 'contact'] = 1\n",
    "data.loc[(data.contact == 'telephone'), 'contact'] = 0\n",
    "\n",
    "data.loc[(data.month == 'jan'), 'month'] = 1\n",
    "data.loc[(data.month == 'feb'), 'month'] = 2\n",
    "data.loc[(data.month == 'mar'), 'month'] = 3\n",
    "data.loc[(data.month == 'apr'), 'month'] = 4\n",
    "data.loc[(data.month == 'may'), 'month'] = 5\n",
    "data.loc[(data.month == 'jun'), 'month'] = 6\n",
    "data.loc[(data.month == 'jul'), 'month'] = 7\n",
    "data.loc[(data.month == 'aug'), 'month'] = 8\n",
    "data.loc[(data.month == 'sep'), 'month'] = 9\n",
    "data.loc[(data.month == 'oct'), 'month'] = 10\n",
    "data.loc[(data.month == 'nov'), 'month'] = 11\n",
    "data.loc[(data.month == 'dec'), 'month'] = 12\n",
    "\n",
    "data.loc[(data.day_of_week == 'mon'), 'day_of_week'] = 1\n",
    "data.loc[(data.day_of_week == 'tue'), 'day_of_week'] = 2\n",
    "data.loc[(data.day_of_week == 'wed'), 'day_of_week'] = 3\n",
    "data.loc[(data.day_of_week == 'thu'), 'day_of_week'] = 4\n",
    "data.loc[(data.day_of_week == 'fri'), 'day_of_week'] = 5\n",
    "\n",
    "data.loc[(data.poutcome == 'nonexistent'), 'poutcome'] = 0\n",
    "data.loc[(data.poutcome == 'success'), 'poutcome'] = 1\n",
    "data.loc[(data.poutcome == 'failure'), 'poutcome'] = 2\n"
   ]
  },
  {
   "cell_type": "code",
   "execution_count": 6,
   "id": "e4c3aae9",
   "metadata": {},
   "outputs": [
    {
     "data": {
      "text/html": [
       "<div>\n",
       "<style scoped>\n",
       "    .dataframe tbody tr th:only-of-type {\n",
       "        vertical-align: middle;\n",
       "    }\n",
       "\n",
       "    .dataframe tbody tr th {\n",
       "        vertical-align: top;\n",
       "    }\n",
       "\n",
       "    .dataframe thead th {\n",
       "        text-align: right;\n",
       "    }\n",
       "</style>\n",
       "<table border=\"1\" class=\"dataframe\">\n",
       "  <thead>\n",
       "    <tr style=\"text-align: right;\">\n",
       "      <th></th>\n",
       "      <th>0</th>\n",
       "    </tr>\n",
       "  </thead>\n",
       "  <tbody>\n",
       "    <tr>\n",
       "      <th>age</th>\n",
       "      <td>[44, 53, 28, 39, 55, 30, 37, 36, 27, 34, 41, 3...</td>\n",
       "    </tr>\n",
       "    <tr>\n",
       "      <th>job</th>\n",
       "      <td>[2, 10, 5, 8, 6, 1, 4, 11, 3, 7, -1, 9]</td>\n",
       "    </tr>\n",
       "    <tr>\n",
       "      <th>marital</th>\n",
       "      <td>[1, 0, 2, -1]</td>\n",
       "    </tr>\n",
       "    <tr>\n",
       "      <th>education</th>\n",
       "      <td>[2, -1, 7, 6, 4, 5, 3, 1]</td>\n",
       "    </tr>\n",
       "    <tr>\n",
       "      <th>default</th>\n",
       "      <td>[-1, 0, 1]</td>\n",
       "    </tr>\n",
       "    <tr>\n",
       "      <th>housing</th>\n",
       "      <td>[1, 0, -1]</td>\n",
       "    </tr>\n",
       "    <tr>\n",
       "      <th>loan</th>\n",
       "      <td>[0, 1, -1]</td>\n",
       "    </tr>\n",
       "    <tr>\n",
       "      <th>contact</th>\n",
       "      <td>[1, 0]</td>\n",
       "    </tr>\n",
       "    <tr>\n",
       "      <th>month</th>\n",
       "      <td>[8, 11, 6, 4, 7, 5, 10, 3, 9, 12]</td>\n",
       "    </tr>\n",
       "    <tr>\n",
       "      <th>day_of_week</th>\n",
       "      <td>[4, 5, 2, 1, 3]</td>\n",
       "    </tr>\n",
       "    <tr>\n",
       "      <th>duration</th>\n",
       "      <td>[210, 138, 339, 185, 137, 68, 204, 191, 174, 6...</td>\n",
       "    </tr>\n",
       "    <tr>\n",
       "      <th>campaign</th>\n",
       "      <td>[1, 3, 2, 8, 5, 4, 25, 11, 12, 18, 6, 17, 7, 2...</td>\n",
       "    </tr>\n",
       "    <tr>\n",
       "      <th>pdays</th>\n",
       "      <td>[999, 6, 3, 2, 4, 16, 0, 5, 11, 14, 13, 9, 15,...</td>\n",
       "    </tr>\n",
       "    <tr>\n",
       "      <th>previous</th>\n",
       "      <td>[0, 2, 1, 3, 4, 5, 7, 6]</td>\n",
       "    </tr>\n",
       "    <tr>\n",
       "      <th>poutcome</th>\n",
       "      <td>[0, 1, 2]</td>\n",
       "    </tr>\n",
       "    <tr>\n",
       "      <th>emp_var_rate</th>\n",
       "      <td>[1.4, -0.1, -1.7, -1.8, -2.9, 1.1, -3.4, -1.1,...</td>\n",
       "    </tr>\n",
       "    <tr>\n",
       "      <th>cons_price_idx</th>\n",
       "      <td>[93.444, 93.2, 94.055, 93.075, 92.201, 93.918,...</td>\n",
       "    </tr>\n",
       "    <tr>\n",
       "      <th>cons_conf_idx</th>\n",
       "      <td>[-36.1, -42.0, -39.8, -47.1, -31.4, -42.7, -46...</td>\n",
       "    </tr>\n",
       "    <tr>\n",
       "      <th>euribor3m</th>\n",
       "      <td>[4.963, 4.021, 0.729, 1.405, 0.869, 4.961, 1.3...</td>\n",
       "    </tr>\n",
       "    <tr>\n",
       "      <th>nr_employed</th>\n",
       "      <td>[5228.1, 5195.8, 4991.6, 5099.1, 5076.2, 5191....</td>\n",
       "    </tr>\n",
       "    <tr>\n",
       "      <th>y</th>\n",
       "      <td>[0, 1]</td>\n",
       "    </tr>\n",
       "  </tbody>\n",
       "</table>\n",
       "</div>"
      ],
      "text/plain": [
       "                                                                0\n",
       "age             [44, 53, 28, 39, 55, 30, 37, 36, 27, 34, 41, 3...\n",
       "job                       [2, 10, 5, 8, 6, 1, 4, 11, 3, 7, -1, 9]\n",
       "marital                                             [1, 0, 2, -1]\n",
       "education                               [2, -1, 7, 6, 4, 5, 3, 1]\n",
       "default                                                [-1, 0, 1]\n",
       "housing                                                [1, 0, -1]\n",
       "loan                                                   [0, 1, -1]\n",
       "contact                                                    [1, 0]\n",
       "month                           [8, 11, 6, 4, 7, 5, 10, 3, 9, 12]\n",
       "day_of_week                                       [4, 5, 2, 1, 3]\n",
       "duration        [210, 138, 339, 185, 137, 68, 204, 191, 174, 6...\n",
       "campaign        [1, 3, 2, 8, 5, 4, 25, 11, 12, 18, 6, 17, 7, 2...\n",
       "pdays           [999, 6, 3, 2, 4, 16, 0, 5, 11, 14, 13, 9, 15,...\n",
       "previous                                 [0, 2, 1, 3, 4, 5, 7, 6]\n",
       "poutcome                                                [0, 1, 2]\n",
       "emp_var_rate    [1.4, -0.1, -1.7, -1.8, -2.9, 1.1, -3.4, -1.1,...\n",
       "cons_price_idx  [93.444, 93.2, 94.055, 93.075, 92.201, 93.918,...\n",
       "cons_conf_idx   [-36.1, -42.0, -39.8, -47.1, -31.4, -42.7, -46...\n",
       "euribor3m       [4.963, 4.021, 0.729, 1.405, 0.869, 4.961, 1.3...\n",
       "nr_employed     [5228.1, 5195.8, 4991.6, 5099.1, 5076.2, 5191....\n",
       "y                                                          [0, 1]"
      ]
     },
     "execution_count": 6,
     "metadata": {},
     "output_type": "execute_result"
    }
   ],
   "source": [
    "# replace missing data \n",
    "\n",
    "data1 = data\n",
    "\n",
    "data1.loc[(data1.job == 'unknown'), 'job'] = -1    # missing data\n",
    "data1.loc[(data1.marital == 'unknown'), 'marital'] = -1    # missing data\n",
    "data1.loc[(data1.education == 'unknown'), 'education'] = -1    # missing data\n",
    "data1.loc[(data1.default == 'unknown'), 'default'] = -1    # missing data      \n",
    "data1.loc[(data1.housing == 'unknown'), 'housing'] = -1    # missing data\n",
    "data1.loc[(data1.loan == 'unknown'), 'loan'] = -1    # missing data\n",
    "\n",
    "pd.DataFrame(data1.apply(pd.unique))"
   ]
  },
  {
   "cell_type": "code",
   "execution_count": 7,
   "id": "96125eb1",
   "metadata": {},
   "outputs": [
    {
     "data": {
      "text/plain": [
       "(41188, 21)"
      ]
     },
     "execution_count": 7,
     "metadata": {},
     "output_type": "execute_result"
    }
   ],
   "source": [
    "data1.shape"
   ]
  },
  {
   "cell_type": "code",
   "execution_count": 8,
   "id": "11de5d30",
   "metadata": {},
   "outputs": [
    {
     "name": "stderr",
     "output_type": "stream",
     "text": [
      "C:\\Users\\MyWork\\AppData\\Local\\Programs\\Python\\Python311\\Lib\\site-packages\\sklearn\\linear_model\\_logistic.py:458: ConvergenceWarning: lbfgs failed to converge (status=1):\n",
      "STOP: TOTAL NO. of ITERATIONS REACHED LIMIT.\n",
      "\n",
      "Increase the number of iterations (max_iter) or scale the data as shown in:\n",
      "    https://scikit-learn.org/stable/modules/preprocessing.html\n",
      "Please also refer to the documentation for alternative solver options:\n",
      "    https://scikit-learn.org/stable/modules/linear_model.html#logistic-regression\n",
      "  n_iter_i = _check_optimize_result(\n"
     ]
    },
    {
     "data": {
      "text/html": [
       "<style>#sk-container-id-1 {color: black;background-color: white;}#sk-container-id-1 pre{padding: 0;}#sk-container-id-1 div.sk-toggleable {background-color: white;}#sk-container-id-1 label.sk-toggleable__label {cursor: pointer;display: block;width: 100%;margin-bottom: 0;padding: 0.3em;box-sizing: border-box;text-align: center;}#sk-container-id-1 label.sk-toggleable__label-arrow:before {content: \"▸\";float: left;margin-right: 0.25em;color: #696969;}#sk-container-id-1 label.sk-toggleable__label-arrow:hover:before {color: black;}#sk-container-id-1 div.sk-estimator:hover label.sk-toggleable__label-arrow:before {color: black;}#sk-container-id-1 div.sk-toggleable__content {max-height: 0;max-width: 0;overflow: hidden;text-align: left;background-color: #f0f8ff;}#sk-container-id-1 div.sk-toggleable__content pre {margin: 0.2em;color: black;border-radius: 0.25em;background-color: #f0f8ff;}#sk-container-id-1 input.sk-toggleable__control:checked~div.sk-toggleable__content {max-height: 200px;max-width: 100%;overflow: auto;}#sk-container-id-1 input.sk-toggleable__control:checked~label.sk-toggleable__label-arrow:before {content: \"▾\";}#sk-container-id-1 div.sk-estimator input.sk-toggleable__control:checked~label.sk-toggleable__label {background-color: #d4ebff;}#sk-container-id-1 div.sk-label input.sk-toggleable__control:checked~label.sk-toggleable__label {background-color: #d4ebff;}#sk-container-id-1 input.sk-hidden--visually {border: 0;clip: rect(1px 1px 1px 1px);clip: rect(1px, 1px, 1px, 1px);height: 1px;margin: -1px;overflow: hidden;padding: 0;position: absolute;width: 1px;}#sk-container-id-1 div.sk-estimator {font-family: monospace;background-color: #f0f8ff;border: 1px dotted black;border-radius: 0.25em;box-sizing: border-box;margin-bottom: 0.5em;}#sk-container-id-1 div.sk-estimator:hover {background-color: #d4ebff;}#sk-container-id-1 div.sk-parallel-item::after {content: \"\";width: 100%;border-bottom: 1px solid gray;flex-grow: 1;}#sk-container-id-1 div.sk-label:hover label.sk-toggleable__label {background-color: #d4ebff;}#sk-container-id-1 div.sk-serial::before {content: \"\";position: absolute;border-left: 1px solid gray;box-sizing: border-box;top: 0;bottom: 0;left: 50%;z-index: 0;}#sk-container-id-1 div.sk-serial {display: flex;flex-direction: column;align-items: center;background-color: white;padding-right: 0.2em;padding-left: 0.2em;position: relative;}#sk-container-id-1 div.sk-item {position: relative;z-index: 1;}#sk-container-id-1 div.sk-parallel {display: flex;align-items: stretch;justify-content: center;background-color: white;position: relative;}#sk-container-id-1 div.sk-item::before, #sk-container-id-1 div.sk-parallel-item::before {content: \"\";position: absolute;border-left: 1px solid gray;box-sizing: border-box;top: 0;bottom: 0;left: 50%;z-index: -1;}#sk-container-id-1 div.sk-parallel-item {display: flex;flex-direction: column;z-index: 1;position: relative;background-color: white;}#sk-container-id-1 div.sk-parallel-item:first-child::after {align-self: flex-end;width: 50%;}#sk-container-id-1 div.sk-parallel-item:last-child::after {align-self: flex-start;width: 50%;}#sk-container-id-1 div.sk-parallel-item:only-child::after {width: 0;}#sk-container-id-1 div.sk-dashed-wrapped {border: 1px dashed gray;margin: 0 0.4em 0.5em 0.4em;box-sizing: border-box;padding-bottom: 0.4em;background-color: white;}#sk-container-id-1 div.sk-label label {font-family: monospace;font-weight: bold;display: inline-block;line-height: 1.2em;}#sk-container-id-1 div.sk-label-container {text-align: center;}#sk-container-id-1 div.sk-container {/* jupyter's `normalize.less` sets `[hidden] { display: none; }` but bootstrap.min.css set `[hidden] { display: none !important; }` so we also need the `!important` here to be able to override the default hidden behavior on the sphinx rendered scikit-learn.org. See: https://github.com/scikit-learn/scikit-learn/issues/21755 */display: inline-block !important;position: relative;}#sk-container-id-1 div.sk-text-repr-fallback {display: none;}</style><div id=\"sk-container-id-1\" class=\"sk-top-container\"><div class=\"sk-text-repr-fallback\"><pre>LogisticRegression()</pre><b>In a Jupyter environment, please rerun this cell to show the HTML representation or trust the notebook. <br />On GitHub, the HTML representation is unable to render, please try loading this page with nbviewer.org.</b></div><div class=\"sk-container\" hidden><div class=\"sk-item\"><div class=\"sk-estimator sk-toggleable\"><input class=\"sk-toggleable__control sk-hidden--visually\" id=\"sk-estimator-id-1\" type=\"checkbox\" checked><label for=\"sk-estimator-id-1\" class=\"sk-toggleable__label sk-toggleable__label-arrow\">LogisticRegression</label><div class=\"sk-toggleable__content\"><pre>LogisticRegression()</pre></div></div></div></div></div>"
      ],
      "text/plain": [
       "LogisticRegression()"
      ]
     },
     "execution_count": 8,
     "metadata": {},
     "output_type": "execute_result"
    }
   ],
   "source": [
    "X = data1.iloc[:, 0:-1]\n",
    "y = data1['y']\n",
    "\n",
    "X_train,X_test,y_train,y_test = train_test_split (X, y, test_size=0.3, random_state=0)\n",
    "\n",
    "log_regression = LogisticRegression()\n",
    "log_regression.fit(X_train,y_train)\n"
   ]
  },
  {
   "cell_type": "code",
   "execution_count": 9,
   "id": "ac999c0f",
   "metadata": {},
   "outputs": [
    {
     "name": "stdout",
     "output_type": "stream",
     "text": [
      "[[10708   273]\n",
      " [  834   542]]\n"
     ]
    },
    {
     "data": {
      "text/plain": [
       "<AxesSubplot: >"
      ]
     },
     "execution_count": 9,
     "metadata": {},
     "output_type": "execute_result"
    },
    {
     "data": {
      "image/png": "[encoded data removed]",
      "text/plain": [
       "<Figure size 640x480 with 2 Axes>"
      ]
     },
     "metadata": {},
     "output_type": "display_data"
    }
   ],
   "source": [
    "y_pred = log_regression.predict(X_test)\n",
    "\n",
    "cnf_matrix = metrics.confusion_matrix (y_test, y_pred)\n",
    "print(cnf_matrix)\n",
    "\n",
    "ax = plt.subplot()\n",
    "sns.heatmap(cnf_matrix, annot=True, fmt='g', ax=ax)"
   ]
  },
  {
   "cell_type": "code",
   "execution_count": 10,
   "id": "91e79feb",
   "metadata": {},
   "outputs": [
    {
     "name": "stdout",
     "output_type": "stream",
     "text": [
      "Accuracy: 0.9104151493080845\n",
      "Precision: 0.6650306748466258\n",
      "Recall: 0.3938953488372093\n",
      "F1: [0.95085024 0.49475126]\n"
     ]
    },
    {
     "data": {
      "image/png": "[encoded data removed]",
      "text/plain": [
       "<Figure size 640x480 with 1 Axes>"
      ]
     },
     "metadata": {},
     "output_type": "display_data"
    }
   ],
   "source": [
    "print(\"Accuracy:\", metrics.accuracy_score(y_test, y_pred))\n",
    "print(\"Precision:\", metrics.precision_score(y_test, y_pred))\n",
    "print(\"Recall:\", metrics.recall_score(y_test, y_pred))\n",
    "print(\"F1:\", metrics.f1_score(y_test, y_pred, average = None))\n",
    "\n",
    "y_pred_proba = log_regression.predict_proba(X_test)[::,1]\n",
    "fpr, tpr, _ = metrics.roc_curve(y_test, y_pred_proba)\n",
    "auc = metrics.roc_auc_score(y_test, y_pred_proba)\n",
    "\n",
    "plt.plot (fpr, tpr, label='AUC='+str(auc))\n",
    "plt.legend(loc=4)\n",
    "plt.show()"
   ]
  },
  {
   "cell_type": "code",
   "execution_count": 11,
   "id": "014937c9",
   "metadata": {},
   "outputs": [
    {
     "data": {
      "text/plain": [
       "(30488, 21)"
      ]
     },
     "execution_count": 11,
     "metadata": {},
     "output_type": "execute_result"
    }
   ],
   "source": [
    "# remove missing data rows\n",
    "\n",
    "data2 = data1\n",
    "\n",
    "data2.loc[(data2.job == -1), 'job'] = None    # missing data\n",
    "data2.loc[(data2.marital == -1), 'marital'] = None    # missing data\n",
    "data2.loc[(data2.education == -1), 'education'] = None    # missing data\n",
    "data2.loc[(data2.default == -1), 'default'] = None    # missing data      \n",
    "data2.loc[(data2.housing == -1), 'housing'] = None    # missing data\n",
    "data2.loc[(data2.loan == -1), 'loan'] = None    # missing data\n",
    "\n",
    "data2 = data.dropna(axis='rows', how='any')  #, inplace=True)\n",
    "\n",
    "data2.shape"
   ]
  },
  {
   "cell_type": "code",
   "execution_count": 12,
   "id": "e9a3d059",
   "metadata": {},
   "outputs": [
    {
     "name": "stderr",
     "output_type": "stream",
     "text": [
      "C:\\Users\\MyWork\\AppData\\Local\\Programs\\Python\\Python311\\Lib\\site-packages\\sklearn\\linear_model\\_logistic.py:458: ConvergenceWarning: lbfgs failed to converge (status=1):\n",
      "STOP: TOTAL NO. of ITERATIONS REACHED LIMIT.\n",
      "\n",
      "Increase the number of iterations (max_iter) or scale the data as shown in:\n",
      "    https://scikit-learn.org/stable/modules/preprocessing.html\n",
      "Please also refer to the documentation for alternative solver options:\n",
      "    https://scikit-learn.org/stable/modules/linear_model.html#logistic-regression\n",
      "  n_iter_i = _check_optimize_result(\n"
     ]
    },
    {
     "data": {
      "text/plain": [
       "<AxesSubplot: >"
      ]
     },
     "execution_count": 12,
     "metadata": {},
     "output_type": "execute_result"
    },
    {
     "data": {
      "image/png": "[encoded data removed]",
      "text/plain": [
       "<Figure size 640x480 with 2 Axes>"
      ]
     },
     "metadata": {},
     "output_type": "display_data"
    }
   ],
   "source": [
    "X = data2.iloc[:, 0:-1]\n",
    "y = data2['y']\n",
    "\n",
    "X_train,X_test,y_train,y_test = train_test_split (X, y, test_size=0.3, random_state=0)\n",
    "\n",
    "log_regression = LogisticRegression()\n",
    "log_regression. fit (X_train,y_train)\n",
    "\n",
    "y_pred = log_regression.predict(X_test)\n",
    "\n",
    "cnf_matrix = metrics.confusion_matrix (y_test, y_pred)\n",
    "cnf_matrix\n",
    "\n",
    "ax = plt.subplot()\n",
    "sns.heatmap(cnf_matrix, annot=True, fmt='g', ax=ax)"
   ]
  },
  {
   "cell_type": "code",
   "execution_count": 13,
   "id": "51f7e93c",
   "metadata": {},
   "outputs": [
    {
     "name": "stdout",
     "output_type": "stream",
     "text": [
      "Accuracy: 0.8954848584235269\n",
      "Precision: 0.680119581464873\n",
      "Recall: 0.38011695906432746\n",
      "F1: [0.94180667 0.48767417]\n"
     ]
    }
   ],
   "source": [
    "print(\"Accuracy:\", metrics.accuracy_score(y_test, y_pred))\n",
    "print(\"Precision:\", metrics.precision_score(y_test, y_pred))\n",
    "print(\"Recall:\", metrics.recall_score(y_test, y_pred))\n",
    "print(\"F1:\", metrics.f1_score(y_test, y_pred, average = None))"
   ]
  },
  {
   "cell_type": "code",
   "execution_count": 14,
   "id": "782304bb",
   "metadata": {},
   "outputs": [
    {
     "data": {
      "image/png": "[encoded data removed]",
      "text/plain": [
       "<Figure size 640x480 with 1 Axes>"
      ]
     },
     "metadata": {},
     "output_type": "display_data"
    }
   ],
   "source": [
    "y_pred_proba = log_regression.predict_proba(X_test)[::,1]\n",
    "fpr, tpr, _ = metrics.roc_curve(y_test, y_pred_proba)\n",
    "auc = metrics.roc_auc_score(y_test, y_pred_proba)\n",
    "\n",
    "plt.plot(fpr, tpr, label='AUC='+str(auc))\n",
    "plt.legend(loc=4)\n",
    "plt.show()"
   ]
  },
  {
   "cell_type": "code",
   "execution_count": 15,
   "id": "30b18c01",
   "metadata": {},
   "outputs": [
    {
     "data": {
      "text/plain": [
       "(41188, 15)"
      ]
     },
     "execution_count": 15,
     "metadata": {},
     "output_type": "execute_result"
    }
   ],
   "source": [
    "# remove missing data columns\n",
    "\n",
    "pd.DataFrame(data.apply(pd.unique))\n",
    "data3 = data.dropna(axis='columns', how='any')  #, inplace=True)\n",
    "data3.shape"
   ]
  },
  {
   "cell_type": "code",
   "execution_count": 16,
   "id": "1b4abfbc",
   "metadata": {},
   "outputs": [
    {
     "name": "stderr",
     "output_type": "stream",
     "text": [
      "C:\\Users\\MyWork\\AppData\\Local\\Programs\\Python\\Python311\\Lib\\site-packages\\sklearn\\linear_model\\_logistic.py:458: ConvergenceWarning: lbfgs failed to converge (status=1):\n",
      "STOP: TOTAL NO. of ITERATIONS REACHED LIMIT.\n",
      "\n",
      "Increase the number of iterations (max_iter) or scale the data as shown in:\n",
      "    https://scikit-learn.org/stable/modules/preprocessing.html\n",
      "Please also refer to the documentation for alternative solver options:\n",
      "    https://scikit-learn.org/stable/modules/linear_model.html#logistic-regression\n",
      "  n_iter_i = _check_optimize_result(\n"
     ]
    },
    {
     "data": {
      "text/plain": [
       "<AxesSubplot: >"
      ]
     },
     "execution_count": 16,
     "metadata": {},
     "output_type": "execute_result"
    },
    {
     "data": {
      "image/png": "[encoded data removed]",
      "text/plain": [
       "<Figure size 640x480 with 2 Axes>"
      ]
     },
     "metadata": {},
     "output_type": "display_data"
    }
   ],
   "source": [
    "X = data3.iloc[:, 0:-1]\n",
    "y = data3['y']\n",
    "\n",
    "X_train,X_test,y_train,y_test = train_test_split (X, y, test_size=0.3, random_state=0)\n",
    "\n",
    "log_regression = LogisticRegression()\n",
    "log_regression. fit (X_train,y_train)\n",
    "\n",
    "y_pred = log_regression.predict(X_test)\n",
    "\n",
    "cnf_matrix = metrics.confusion_matrix (y_test, y_pred)\n",
    "cnf_matrix\n",
    "\n",
    "ax = plt.subplot()\n",
    "sns.heatmap(cnf_matrix, annot=True, fmt='g', ax=ax)"
   ]
  },
  {
   "cell_type": "code",
   "execution_count": 17,
   "id": "e6913ca2",
   "metadata": {},
   "outputs": [
    {
     "name": "stdout",
     "output_type": "stream",
     "text": [
      "Accuracy: 0.9107388524722829\n",
      "Precision: 0.674775928297055\n",
      "Recall: 0.38299418604651164\n",
      "F1: [0.95110165 0.48864163]\n"
     ]
    },
    {
     "data": {
      "image/png": "[encoded data removed]",
      "text/plain": [
       "<Figure size 640x480 with 1 Axes>"
      ]
     },
     "metadata": {},
     "output_type": "display_data"
    }
   ],
   "source": [
    "print(\"Accuracy:\", metrics.accuracy_score(y_test, y_pred))\n",
    "print(\"Precision:\", metrics.precision_score(y_test, y_pred))\n",
    "print(\"Recall:\", metrics.recall_score(y_test, y_pred))\n",
    "print(\"F1:\", metrics.f1_score(y_test, y_pred, average = None))\n",
    "\n",
    "y_pred_proba = log_regression.predict_proba(X_test)[::,1]\n",
    "fpr, tpr, _ = metrics.roc_curve(y_test, y_pred_proba)\n",
    "auc = metrics.roc_auc_score(y_test, y_pred_proba)\n",
    "\n",
    "plt.plot (fpr, tpr, label='AUC='+str(auc))\n",
    "plt.legend(loc=4)\n",
    "plt.show()"
   ]
  },
  {
   "cell_type": "code",
   "execution_count": 19,
   "id": "3e9a7151",
   "metadata": {},
   "outputs": [],
   "source": [
    "# \n",
    "# видалення 25% rows (об'єктів) з missing data дає гірші показники accuracy, \n",
    "# ніж видалення 30% columns (ознак) або заміна unknown індексом\n",
    "# \n",
    "# видалення columns з unknown у порівнянні із заміною unknown на індекс дає більше істинно позитивних результатів, \n",
    "# збільшуючи False Negative і зменшуючи False Positive\n",
    "# \n",
    "# в цілому показники визначення позитивних об'єктів не високі: \n",
    "# частка всіх об'єктів, визначених моделлю як позитивні і які при цьому дійсно позитивні (precision) 0.66-0.68 \n",
    "# частка об'єктів позитивного класу, визначених моделлю як позитивні (recall) всього 0.38-0.39\n",
    "# тобто багато хибно негативних визначень\n"
   ]
  }
 ],
 "metadata": {
  "kernelspec": {
   "display_name": "Python 3 (ipykernel)",
   "language": "python",
   "name": "python3"
  },
  "language_info": {
   "codemirror_mode": {
    "name": "ipython",
    "version": 3
   },
   "file_extension": ".py",
   "mimetype": "text/x-python",
   "name": "python",
   "nbconvert_exporter": "python",
   "pygments_lexer": "ipython3",
   "version": "3.11.1"
  }
 },
 "nbformat": 4,
 "nbformat_minor": 5
}
